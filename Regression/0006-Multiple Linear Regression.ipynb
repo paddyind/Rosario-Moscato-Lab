{
  "nbformat": 4,
  "nbformat_minor": 0,
  "metadata": {
    "colab": {
      "name": "medical_insurance_prediction_notebook.ipynb",
      "provenance": [],
      "collapsed_sections": []
    },
    "instance_type": "ml.t3.medium",
    "kernelspec": {
      "name": "python3",
      "display_name": "Python 3"
    }
  },
  "cells": [
    {
      "cell_type": "markdown",
      "metadata": {
        "id": "M27qF7CTrBqc"
      },
      "source": [
        "# Health Insurance Cost (Insurance Forecast by using Linear Regression)"
      ]
    },
    {
      "cell_type": "markdown",
      "metadata": {
        "id": "xNl52nl3qiyL"
      },
      "source": [
        "## Inspiration\n",
        "\n",
        "**Can you accurately predict insurance costs?**\n",
        "\n",
        "[Data Source from Kaggle](https://www.kaggle.com/mirichoi0218/insurance)\n",
        "\n",
        "- Aim of the problem is to find the health insurance cost incured by Individuals based on thier age, gender, BMI, number of children, smoking habit and geo-location.\n",
        "\n",
        "- Features available are:\n",
        "\n",
        "    - age: age of primary beneficiary\n",
        "\n",
        "    - sex: insurance contractor gender, female, male \n",
        "\n",
        "    - bmi: Body mass index, providing an understanding of body, weights that are relatively high or low relative to height,\n",
        "objective index of body weight (kg / m ^ 2) using the ratio of height to weight, ideally 18.5 to 24.9 \n",
        "\n",
        "    - children: Number of children covered by health insurance / Number of dependents\n",
        "\n",
        "    - smoker: Smoking (habits)\n",
        "\n",
        "    - region: the beneficiary's residential area in the US, northeast, southeast, southwest, northwest.\n",
        "\n",
        "    - charges: Individual medical costs billed by health insurance\n",
        "\n",
        "\n",
        "[Dataset download from Github](https://github.com/stedy/Machine-Learning-with-R-datasets) \n"
      ]
    },
    {
      "cell_type": "markdown",
      "metadata": {
        "id": "zKmFmyaGunc7"
      },
      "source": [
        "## 1) IMPORT LIBRARIES AND DATASETS"
      ]
    },
    {
      "cell_type": "code",
      "metadata": {
        "id": "S0Cx3743urFY",
        "scrolled": true
      },
      "source": [
        "import pandas as pd\n",
        "import numpy as np\n",
        "import seaborn as sns\n",
        "import matplotlib.pyplot as plt"
      ],
      "execution_count": null,
      "outputs": []
    },
    {
      "cell_type": "code",
      "metadata": {
        "id": "DdgOeVTUlUL2"
      },
      "source": [
        "from google.colab import files\n",
        "uploaded = files.upload()"
      ],
      "execution_count": null,
      "outputs": []
    },
    {
      "cell_type": "code",
      "metadata": {
        "id": "tjIiJdM4u1IE"
      },
      "source": [
        "# read the csv file \n",
        "insurance_df = pd.read_csv('insurance.csv')"
      ],
      "execution_count": null,
      "outputs": []
    },
    {
      "cell_type": "code",
      "metadata": {
        "id": "q4_wPDKCu5Uc"
      },
      "source": [
        "insurance_df.head()"
      ],
      "execution_count": null,
      "outputs": []
    },
    {
      "cell_type": "code",
      "metadata": {
        "id": "OzLEOotHi0kt"
      },
      "source": [
        "insurance_df.tail()"
      ],
      "execution_count": null,
      "outputs": []
    },
    {
      "cell_type": "code",
      "metadata": {
        "id": "Wl8ghtHrloqA"
      },
      "source": [
        "insurance_df.shape"
      ],
      "execution_count": null,
      "outputs": []
    },
    {
      "cell_type": "markdown",
      "metadata": {
        "id": "tMcr7xqMQre2"
      },
      "source": [
        "## 2) EXPLORATORY DATA ANALYSIS (EDA)"
      ]
    },
    {
      "cell_type": "code",
      "metadata": {
        "id": "6JYkJo9pYaet"
      },
      "source": [
        "# check if there are any Null values\n",
        "insurance_df.isnull().sum()"
      ],
      "execution_count": null,
      "outputs": []
    },
    {
      "cell_type": "code",
      "metadata": {
        "id": "hMq3-KWOx0e1",
        "scrolled": true
      },
      "source": [
        "# Check the dataframe info\n",
        "insurance_df.info()"
      ],
      "execution_count": null,
      "outputs": []
    },
    {
      "cell_type": "code",
      "metadata": {
        "id": "bRcEvQpsi0kv"
      },
      "source": [
        "# Grouping by region to check for any relationship between region and charges\n",
        "# South East region has the highest charges and body mass index\n",
        "df_region = insurance_df.groupby(by='region').mean()\n",
        "df_region"
      ],
      "execution_count": null,
      "outputs": []
    },
    {
      "cell_type": "code",
      "metadata": {
        "id": "28R8Jbbbi0kw"
      },
      "source": [
        "# Check unique values in the 'sex' column\n",
        "insurance_df['sex'].unique()"
      ],
      "execution_count": null,
      "outputs": []
    },
    {
      "cell_type": "code",
      "metadata": {
        "id": "uKUgYJOei0kx"
      },
      "source": [
        "# convert categorical variable to numerical\n",
        "insurance_df['sex'] = insurance_df['sex'].apply(lambda x: 0 if x == 'female' else 1)"
      ],
      "execution_count": null,
      "outputs": []
    },
    {
      "cell_type": "code",
      "metadata": {
        "id": "vLHoBORwi0kx"
      },
      "source": [
        "insurance_df.head()"
      ],
      "execution_count": null,
      "outputs": []
    },
    {
      "cell_type": "code",
      "metadata": {
        "id": "TCdO-2pZi0ky"
      },
      "source": [
        "# Check the unique values in the 'smoker' column\n",
        "insurance_df['smoker'].unique()"
      ],
      "execution_count": null,
      "outputs": []
    },
    {
      "cell_type": "code",
      "metadata": {
        "id": "avGkfDFYi0ky"
      },
      "source": [
        "# Convert categorical variable to numerical \n",
        "insurance_df['smoker'] = insurance_df['smoker'].apply(lambda x: 0 if x == 'no' else 1)"
      ],
      "execution_count": null,
      "outputs": []
    },
    {
      "cell_type": "code",
      "metadata": {
        "id": "wnaSpCUUi0ky"
      },
      "source": [
        "insurance_df.head()"
      ],
      "execution_count": null,
      "outputs": []
    },
    {
      "cell_type": "code",
      "metadata": {
        "id": "WNKpNqlzi0ky"
      },
      "source": [
        "# Check unique values in 'region' column\n",
        "insurance_df['region'].unique()"
      ],
      "execution_count": null,
      "outputs": []
    },
    {
      "cell_type": "code",
      "metadata": {
        "id": "ABGTArOei0kz"
      },
      "source": [
        "region_dummies = pd.get_dummies(insurance_df['region'], drop_first = True)"
      ],
      "execution_count": null,
      "outputs": []
    },
    {
      "cell_type": "code",
      "metadata": {
        "id": "pL916keii0kz"
      },
      "source": [
        "region_dummies.head()"
      ],
      "execution_count": null,
      "outputs": []
    },
    {
      "cell_type": "code",
      "metadata": {
        "id": "vIJXnVKvi0kz"
      },
      "source": [
        "insurance_df = pd.concat([insurance_df, region_dummies], axis = 1)"
      ],
      "execution_count": null,
      "outputs": []
    },
    {
      "cell_type": "code",
      "metadata": {
        "id": "vBiRroTai0kz"
      },
      "source": [
        "insurance_df.head()"
      ],
      "execution_count": null,
      "outputs": []
    },
    {
      "cell_type": "code",
      "metadata": {
        "id": "L8hZXy-pi0kz"
      },
      "source": [
        "# Let's drop the original 'region' column \n",
        "insurance_df.drop(['region'], axis = 1, inplace = True)"
      ],
      "execution_count": null,
      "outputs": []
    },
    {
      "cell_type": "code",
      "metadata": {
        "id": "qJIapSMki0k0"
      },
      "source": [
        "insurance_df.head()"
      ],
      "execution_count": null,
      "outputs": []
    },
    {
      "cell_type": "code",
      "metadata": {
        "id": "Nn1Oxk2SzPX3"
      },
      "source": [
        "insurance_df.describe()"
      ],
      "execution_count": null,
      "outputs": []
    },
    {
      "cell_type": "markdown",
      "metadata": {
        "id": "Y0GmpAjG3GiH"
      },
      "source": [
        "## 3) VISUALIZATION"
      ]
    },
    {
      "cell_type": "code",
      "metadata": {
        "id": "RSm2OFzBi0k1"
      },
      "source": [
        "# Check Distributions\n",
        "insurance_df[['age', 'sex', 'bmi', 'children', 'smoker', 'charges']].hist(bins = 30, figsize = (20,20), color = 'r');"
      ],
      "execution_count": null,
      "outputs": []
    },
    {
      "cell_type": "code",
      "metadata": {
        "id": "Ka9uFRXSkWHw"
      },
      "source": [
        "# plot pairplot\n",
        "sns.pairplot(insurance_df)"
      ],
      "execution_count": null,
      "outputs": []
    },
    {
      "cell_type": "code",
      "metadata": {
        "id": "1OiGun0tvU7W"
      },
      "source": [
        "# Regression Plot (No Machine Learning)\n",
        "sns.regplot(x = 'age', y = 'charges', data = insurance_df)\n",
        "plt.show()"
      ],
      "execution_count": null,
      "outputs": []
    },
    {
      "cell_type": "code",
      "metadata": {
        "id": "GXe2jtgBi0k1"
      },
      "source": [
        "# Regression Plot (No Machine Learning)\n",
        "sns.regplot(x = 'bmi', y = 'charges', data = insurance_df)\n",
        "plt.show()"
      ],
      "execution_count": null,
      "outputs": []
    },
    {
      "cell_type": "code",
      "metadata": {
        "id": "9q-tFxvskWDa"
      },
      "source": [
        "# Check Correlation\n",
        "corr = insurance_df.corr()"
      ],
      "execution_count": null,
      "outputs": []
    },
    {
      "cell_type": "code",
      "metadata": {
        "id": "clmblKfur8rm"
      },
      "source": [
        "# Heatmap for Correlation\n",
        "plt.figure(figsize=(10,10))\n",
        "sns.heatmap(corr,annot=True)\n",
        "plt.show()"
      ],
      "execution_count": null,
      "outputs": []
    },
    {
      "cell_type": "markdown",
      "metadata": {
        "id": "53qDZFRn3-S1"
      },
      "source": [
        "## 4) CREATE TRAINING AND TESTING DATASET"
      ]
    },
    {
      "cell_type": "code",
      "metadata": {
        "id": "8QQTkOBL1yUR"
      },
      "source": [
        "# Print Columns Names\n",
        "insurance_df.columns"
      ],
      "execution_count": null,
      "outputs": []
    },
    {
      "cell_type": "code",
      "metadata": {
        "id": "4OXZB2F21e4H"
      },
      "source": [
        "X = insurance_df.drop(columns =['charges'])\n",
        "y = insurance_df['charges']"
      ],
      "execution_count": null,
      "outputs": []
    },
    {
      "cell_type": "code",
      "metadata": {
        "scrolled": true,
        "id": "4AVvXpO4i0k1"
      },
      "source": [
        "# Check X\n",
        "X.head()"
      ],
      "execution_count": null,
      "outputs": []
    },
    {
      "cell_type": "code",
      "metadata": {
        "id": "RmjDY5uPi0k2"
      },
      "source": [
        "# Check y\n",
        "y.head()"
      ],
      "execution_count": null,
      "outputs": []
    },
    {
      "cell_type": "code",
      "metadata": {
        "id": "XpGU63Ne1e9P"
      },
      "source": [
        "# Check Shape\n",
        "X.shape"
      ],
      "execution_count": null,
      "outputs": []
    },
    {
      "cell_type": "code",
      "metadata": {
        "id": "OjGj0RALA0qZ"
      },
      "source": [
        "# Check Shape\n",
        "y.shape"
      ],
      "execution_count": null,
      "outputs": []
    },
    {
      "cell_type": "code",
      "metadata": {
        "id": "jIeiK1maA6mm"
      },
      "source": [
        "# Casting to NP Arrays\n",
        "X = np.array(X)\n",
        "y = np.array(y)"
      ],
      "execution_count": null,
      "outputs": []
    },
    {
      "cell_type": "code",
      "metadata": {
        "id": "2xB5CDp9i0k2"
      },
      "source": [
        "# Reshaping of y\n",
        "y = y.reshape(-1,1)"
      ],
      "execution_count": null,
      "outputs": []
    },
    {
      "cell_type": "code",
      "metadata": {
        "id": "_j61kbxqi0k2"
      },
      "source": [
        "y.shape"
      ],
      "execution_count": null,
      "outputs": []
    },
    {
      "cell_type": "code",
      "metadata": {
        "id": "m6V7goNiA6xG"
      },
      "source": [
        "#Scaling the data numerical data before feeding the model\n",
        "from sklearn.preprocessing import MinMaxScaler\n",
        "\n",
        "scaler_x = MinMaxScaler()\n",
        "X = scaler_x.fit_transform(X)\n",
        "\n",
        "scaler_y = MinMaxScaler()\n",
        "y = scaler_y.fit_transform(y)"
      ],
      "execution_count": null,
      "outputs": []
    },
    {
      "cell_type": "code",
      "metadata": {
        "id": "vowA2uvXH4yb"
      },
      "source": [
        "X"
      ],
      "execution_count": null,
      "outputs": []
    },
    {
      "cell_type": "code",
      "metadata": {
        "id": "QzFaK_x6IAWK"
      },
      "source": [
        "y"
      ],
      "execution_count": null,
      "outputs": []
    },
    {
      "cell_type": "code",
      "metadata": {
        "id": "iSrpGTC5i0k2"
      },
      "source": [
        "# Split the data into 20% Testing and 80% Training\n",
        "from sklearn.model_selection import train_test_split\n",
        "\n",
        "X_train,X_test,y_train,y_test = train_test_split(X,y,test_size=0.20,random_state=72)"
      ],
      "execution_count": null,
      "outputs": []
    },
    {
      "cell_type": "code",
      "metadata": {
        "id": "-S7LHoupi0k2"
      },
      "source": [
        "# Shape Checking\n",
        "X_train.shape"
      ],
      "execution_count": null,
      "outputs": []
    },
    {
      "cell_type": "code",
      "metadata": {
        "id": "e3rLT7fqi0k3"
      },
      "source": [
        "# Shape Checking\n",
        "X_test.shape"
      ],
      "execution_count": null,
      "outputs": []
    },
    {
      "cell_type": "code",
      "metadata": {
        "id": "GWWk8iZni0k3"
      },
      "source": [
        "1070+268"
      ],
      "execution_count": null,
      "outputs": []
    },
    {
      "cell_type": "markdown",
      "metadata": {
        "id": "idWHLv5alF4C"
      },
      "source": [
        "## 5) TRAIN AND TEST A LINEAR REGRESSION MODEL IN SK-LEARN"
      ]
    },
    {
      "cell_type": "code",
      "metadata": {
        "id": "yHL-6mKwBURs"
      },
      "source": [
        "# Using Linear Regression Model\n",
        "from sklearn.linear_model import LinearRegression\n",
        "\n",
        "regressor = LinearRegression()\n",
        "regressor.fit(X_train, y_train)"
      ],
      "execution_count": null,
      "outputs": []
    },
    {
      "cell_type": "code",
      "metadata": {
        "id": "NAwuXPSOi0k5"
      },
      "source": [
        "# Get the predictions\n",
        "y_predict = regressor.predict(X_test)"
      ],
      "execution_count": null,
      "outputs": []
    },
    {
      "cell_type": "code",
      "metadata": {
        "id": "0JKhCv4YsXLP"
      },
      "source": [
        "y_predict.shape"
      ],
      "execution_count": null,
      "outputs": []
    },
    {
      "cell_type": "code",
      "metadata": {
        "id": "F7XkWpSIi0k5"
      },
      "source": [
        "# Get the Values \"before\" scaling\n",
        "y_predict_orig = scaler_y.inverse_transform(y_predict)\n",
        "y_test_orig = scaler_y.inverse_transform(y_test)"
      ],
      "execution_count": null,
      "outputs": []
    },
    {
      "cell_type": "code",
      "metadata": {
        "id": "UXhdnRYVi0k5"
      },
      "source": [
        "# Number of Features and Cases\n",
        "k = X_test.shape[1] # Number of Features\n",
        "n = len(X_test) # Number of Cases\n",
        "print(\"Features:\",k)\n",
        "print(\"Cases:\",n)"
      ],
      "execution_count": null,
      "outputs": []
    },
    {
      "cell_type": "code",
      "metadata": {
        "scrolled": true,
        "id": "1PrAMxh7i0k5"
      },
      "source": [
        "# Metrics Calculation\n",
        "\n",
        "from sklearn.metrics import r2_score, mean_squared_error, mean_absolute_error\n",
        "\n",
        "RMSE = float(format(np.sqrt(mean_squared_error(y_test_orig, y_predict_orig)),'.3f'))\n",
        "MSE = mean_squared_error(y_test_orig, y_predict_orig)\n",
        "MAE=mean_absolute_error(y_test_orig, y_predict_orig)\n",
        "r2=r2_score(y_test_orig, y_predict_orig)\n",
        "adj_r2 = 1 - (1 - r2) * (n -1) / (n - k -1)"
      ],
      "execution_count": null,
      "outputs": []
    },
    {
      "cell_type": "code",
      "metadata": {
        "id": "hfsJSH7qi0k5"
      },
      "source": [
        "# Evaluation Results Printing\n",
        "print('RMSE =',RMSE, '\\nMSE =',MSE, '\\nMAE =',MAE, '\\nR2 =', r2, '\\nAdjusted R2 =', adj_r2) "
      ],
      "execution_count": null,
      "outputs": []
    },
    {
      "cell_type": "code",
      "metadata": {
        "id": "2VGjFvRYQIio"
      },
      "source": [
        "# Columns Check\n",
        "insurance_df.columns"
      ],
      "execution_count": null,
      "outputs": []
    },
    {
      "cell_type": "code",
      "metadata": {
        "id": "KKa5G2TQvJXY"
      },
      "source": [
        "# Check the Weights for the various Features\n",
        "list(zip(['age', 'sex', 'bmi', 'children', 'smoker', 'northwest',\n",
        "       'southeast', 'southwest'], regressor.coef_[0])) "
      ],
      "execution_count": null,
      "outputs": []
    },
    {
      "cell_type": "markdown",
      "metadata": {
        "id": "cNvzkvzIQdo_"
      },
      "source": [
        "## 6) Only Most Significative Features"
      ]
    },
    {
      "cell_type": "code",
      "metadata": {
        "id": "MzvjIJoWPmD7"
      },
      "source": [
        "X_3f = insurance_df[['smoker','bmi','age']].values\n",
        "y_3f = insurance_df['charges'].values"
      ],
      "execution_count": null,
      "outputs": []
    },
    {
      "cell_type": "code",
      "metadata": {
        "id": "B4phUAWJRWKr"
      },
      "source": [
        "# Casting to NP Arrays\n",
        "X_3f = np.array(X_3f)\n",
        "y_3f = np.array(y_3f)"
      ],
      "execution_count": null,
      "outputs": []
    },
    {
      "cell_type": "code",
      "metadata": {
        "id": "HAnhGyr-RXS9"
      },
      "source": [
        "# Reshaping of y\n",
        "y_3f = y_3f.reshape(-1,1)"
      ],
      "execution_count": null,
      "outputs": []
    },
    {
      "cell_type": "code",
      "metadata": {
        "id": "3t-CENZtRC4P"
      },
      "source": [
        "#Scaling the data numerical data before feeding the model\n",
        "#from sklearn.preprocessing import MinMaxScaler\n",
        "\n",
        "scaler_x3f = MinMaxScaler()\n",
        "X_3f = scaler_x3f.fit_transform(X_3f)\n",
        "\n",
        "scaler_y3f = MinMaxScaler()\n",
        "y_3f = scaler_y3f.fit_transform(y_3f)"
      ],
      "execution_count": null,
      "outputs": []
    },
    {
      "cell_type": "code",
      "metadata": {
        "id": "EzRNJCJCRJ8C"
      },
      "source": [
        "# Split the data into 20% Testing and 80% Training\n",
        "#from sklearn.model_selection import train_test_split\n",
        "\n",
        "X3f_train,X3f_test,y3f_train,y3f_test = train_test_split(X_3f,y_3f,test_size=0.20,random_state=72)"
      ],
      "execution_count": null,
      "outputs": []
    },
    {
      "cell_type": "code",
      "metadata": {
        "id": "FU5d8h8JRiIA"
      },
      "source": [
        "# Using Linear Regression Model\n",
        "#from sklearn.linear_model import LinearRegression\n",
        "\n",
        "regressor = LinearRegression()\n",
        "regressor.fit(X3f_train, y3f_train)"
      ],
      "execution_count": null,
      "outputs": []
    },
    {
      "cell_type": "code",
      "metadata": {
        "id": "EJe-9HFIRo1M"
      },
      "source": [
        "# Get the predictions\n",
        "y3f_predict = regressor.predict(X3f_test)"
      ],
      "execution_count": null,
      "outputs": []
    },
    {
      "cell_type": "code",
      "metadata": {
        "id": "CPLf2uXtRsgv"
      },
      "source": [
        "# Get the Values \"before\" scaling\n",
        "y3f_predict_orig = scaler_y3f.inverse_transform(y3f_predict)\n",
        "y3f_test_orig = scaler_y3f.inverse_transform(y3f_test)"
      ],
      "execution_count": null,
      "outputs": []
    },
    {
      "cell_type": "code",
      "metadata": {
        "id": "c2ImA6lMRwID"
      },
      "source": [
        "# Number of Features and Cases\n",
        "k = X3f_test.shape[1] # Number of Features\n",
        "n = len(X3f_test) # Number of Cases\n",
        "print(\"Features:\",k)\n",
        "print(\"Cases:\",n)"
      ],
      "execution_count": null,
      "outputs": []
    },
    {
      "cell_type": "code",
      "metadata": {
        "id": "0wFandHxRzwO"
      },
      "source": [
        "# Metrics Calculation\n",
        "#from sklearn.metrics import r2_score, mean_squared_error, mean_absolute_error\n",
        "\n",
        "RMSE = float(format(np.sqrt(mean_squared_error(y3f_test_orig, y3f_predict_orig)),'.3f'))\n",
        "MSE = mean_squared_error(y3f_test_orig, y3f_predict_orig)\n",
        "MAE=mean_absolute_error(y3f_test_orig, y3f_predict_orig)\n",
        "r2=r2_score(y3f_test_orig, y3f_predict_orig)\n",
        "adj_r2 = 1 - (1 - r2) * (n -1) / (n - k -1)"
      ],
      "execution_count": null,
      "outputs": []
    },
    {
      "cell_type": "code",
      "metadata": {
        "id": "w0MjBrX4R3P3"
      },
      "source": [
        "# Evaluation Results Printing\n",
        "print('RMSE =',RMSE, '\\nMSE =',MSE, '\\nMAE =',MAE, '\\nR2 =', r2, '\\nAdjusted R2 =', adj_r2) "
      ],
      "execution_count": null,
      "outputs": []
    },
    {
      "cell_type": "markdown",
      "metadata": {
        "id": "rsPSGSD1w5Rt"
      },
      "source": [
        "## 7) ARTIFICIAL NEURAL NETWORK FOR REGRESSION"
      ]
    },
    {
      "cell_type": "code",
      "metadata": {
        "id": "EYz-dOXTS4iv"
      },
      "source": [
        "#!pip install tensorflow"
      ],
      "execution_count": null,
      "outputs": []
    },
    {
      "cell_type": "code",
      "metadata": {
        "id": "PsUuE3XExkTz"
      },
      "source": [
        "import tensorflow as tf\n",
        "from tensorflow import keras\n",
        "from tensorflow.keras.layers import Dense, Activation, Dropout\n",
        "from tensorflow.keras.optimizers import Adam"
      ],
      "execution_count": null,
      "outputs": []
    },
    {
      "cell_type": "code",
      "metadata": {
        "id": "72luTs7dxrWk"
      },
      "source": [
        "# Deep Neural Network\n",
        "ANN_model = keras.Sequential()\n",
        "ANN_model.add(Dense(32, input_dim = 8, activation = 'relu'))\n",
        "ANN_model.add(Dense(64, activation = 'relu'))\n",
        "ANN_model.add(Dropout(0.25))\n",
        "ANN_model.add(Dense(64, activation = 'relu'))\n",
        "ANN_model.add(Dropout(0.25))\n",
        "ANN_model.add(Dense(32, activation = 'linear')) # Continuous Activation for Regression Problems\n",
        "ANN_model.add(Dense(1)) # Output\n",
        "\n",
        "ANN_model.summary() # Print the Model Summary"
      ],
      "execution_count": null,
      "outputs": []
    },
    {
      "cell_type": "code",
      "metadata": {
        "id": "iQQ3I7ctx0Jr"
      },
      "source": [
        "ANN_model.compile(optimizer='adam', loss='mean_squared_error')\n",
        "\n",
        "epochs_hist = ANN_model.fit(X_train, y_train, epochs = 100, batch_size = 8, validation_split = 0.2)"
      ],
      "execution_count": null,
      "outputs": []
    },
    {
      "cell_type": "code",
      "metadata": {
        "id": "DCnuvX2Ex8ST"
      },
      "source": [
        "# All information about the training\n",
        "epochs_hist.history.keys()"
      ],
      "execution_count": null,
      "outputs": []
    },
    {
      "cell_type": "code",
      "metadata": {
        "id": "2hyGTFBAyFf6"
      },
      "source": [
        "plt.plot(epochs_hist.history['loss'])\n",
        "plt.plot(epochs_hist.history['val_loss'])\n",
        "plt.title('Model Loss Progress During Training')\n",
        "plt.xlabel('Epoch')\n",
        "plt.ylabel('Training and Validation Loss')\n",
        "plt.legend(['Training Loss', 'Validation Loss'])"
      ],
      "execution_count": null,
      "outputs": []
    },
    {
      "cell_type": "code",
      "metadata": {
        "id": "wb3bqwmfyIQj"
      },
      "source": [
        "y_predict = ANN_model.predict(X_test)\n",
        "plt.plot(y_test, y_predict, \"^\", color = 'r')\n",
        "plt.xlabel('True Values')\n",
        "plt.ylabel('Model Predictions')"
      ],
      "execution_count": null,
      "outputs": []
    },
    {
      "cell_type": "code",
      "metadata": {
        "id": "8pMwgOSmyK6o"
      },
      "source": [
        "y_predict_orig = scaler_y.inverse_transform(y_predict)\n",
        "y_test_orig = scaler_y.inverse_transform(y_test)"
      ],
      "execution_count": null,
      "outputs": []
    },
    {
      "cell_type": "code",
      "metadata": {
        "id": "0rn3K7PryNTB"
      },
      "source": [
        "plt.plot(y_test_orig, y_predict_orig, \"^\", color = 'r')\n",
        "plt.xlabel('True Values')\n",
        "plt.ylabel('Model Predictions')"
      ],
      "execution_count": null,
      "outputs": []
    },
    {
      "cell_type": "code",
      "metadata": {
        "id": "AOTyn_9nyPbN"
      },
      "source": [
        "k = X_test.shape[1]\n",
        "n = len(X_test)\n",
        "n\n",
        "\n",
        "from sklearn.metrics import r2_score, mean_squared_error, mean_absolute_error\n",
        "from math import sqrt\n",
        "\n",
        "RMSE = float(format(np.sqrt(mean_squared_error(y_test_orig, y_predict_orig)),'.3f'))\n",
        "MSE = mean_squared_error(y_test_orig, y_predict_orig)\n",
        "MAE = mean_absolute_error(y_test_orig, y_predict_orig)\n",
        "r2 = r2_score(y_test_orig, y_predict_orig)\n",
        "adj_r2 = 1-(1-r2)*(n-1)/(n-k-1)\n",
        "\n",
        "print('RMSE =',RMSE, '\\nMSE =',MSE, '\\nMAE =',MAE, '\\nR2 =', r2, '\\nAdjusted R2 =', adj_r2) "
      ],
      "execution_count": null,
      "outputs": []
    },
    {
      "cell_type": "code",
      "metadata": {
        "id": "lROsD4yL1GAf"
      },
      "source": [
        ""
      ],
      "execution_count": null,
      "outputs": []
    }
  ]
}